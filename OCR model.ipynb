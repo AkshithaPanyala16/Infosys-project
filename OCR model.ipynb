{
 "cells": [
  {
   "cell_type": "code",
   "execution_count": 1,
   "id": "cc7fae20-11ee-40fd-8ca6-82e49905ef86",
   "metadata": {
    "scrolled": true
   },
   "outputs": [
    {
     "name": "stdout",
     "output_type": "stream",
     "text": [
      "Requirement already satisfied: easyocr in c:\\users\\panya\\appdata\\local\\programs\\python\\python313\\lib\\site-packages (1.7.2)\n",
      "Requirement already satisfied: torch in c:\\users\\panya\\appdata\\local\\programs\\python\\python313\\lib\\site-packages (from easyocr) (2.6.0)\n",
      "Requirement already satisfied: torchvision>=0.5 in c:\\users\\panya\\appdata\\local\\programs\\python\\python313\\lib\\site-packages (from easyocr) (0.21.0)\n",
      "Requirement already satisfied: opencv-python-headless in c:\\users\\panya\\appdata\\local\\programs\\python\\python313\\lib\\site-packages (from easyocr) (4.11.0.86)\n",
      "Requirement already satisfied: scipy in c:\\users\\panya\\appdata\\local\\programs\\python\\python313\\lib\\site-packages (from easyocr) (1.15.2)\n",
      "Requirement already satisfied: numpy in c:\\users\\panya\\appdata\\local\\programs\\python\\python313\\lib\\site-packages (from easyocr) (2.1.1)\n",
      "Requirement already satisfied: Pillow in c:\\users\\panya\\appdata\\local\\programs\\python\\python313\\lib\\site-packages (from easyocr) (11.1.0)\n",
      "Requirement already satisfied: scikit-image in c:\\users\\panya\\appdata\\local\\programs\\python\\python313\\lib\\site-packages (from easyocr) (0.25.2)\n",
      "Requirement already satisfied: python-bidi in c:\\users\\panya\\appdata\\local\\programs\\python\\python313\\lib\\site-packages (from easyocr) (0.6.6)\n",
      "Requirement already satisfied: PyYAML in c:\\users\\panya\\appdata\\local\\programs\\python\\python313\\lib\\site-packages (from easyocr) (6.0.2)\n",
      "Requirement already satisfied: Shapely in c:\\users\\panya\\appdata\\local\\programs\\python\\python313\\lib\\site-packages (from easyocr) (2.0.7)\n",
      "Requirement already satisfied: pyclipper in c:\\users\\panya\\appdata\\local\\programs\\python\\python313\\lib\\site-packages (from easyocr) (1.3.0.post6)\n",
      "Requirement already satisfied: ninja in c:\\users\\panya\\appdata\\local\\programs\\python\\python313\\lib\\site-packages (from easyocr) (1.11.1.3)\n",
      "Requirement already satisfied: filelock in c:\\users\\panya\\appdata\\local\\programs\\python\\python313\\lib\\site-packages (from torch->easyocr) (3.17.0)\n",
      "Requirement already satisfied: typing-extensions>=4.10.0 in c:\\users\\panya\\appdata\\local\\programs\\python\\python313\\lib\\site-packages (from torch->easyocr) (4.12.2)\n",
      "Requirement already satisfied: networkx in c:\\users\\panya\\appdata\\local\\programs\\python\\python313\\lib\\site-packages (from torch->easyocr) (3.4.2)\n",
      "Requirement already satisfied: jinja2 in c:\\users\\panya\\appdata\\local\\programs\\python\\python313\\lib\\site-packages (from torch->easyocr) (3.1.5)\n",
      "Requirement already satisfied: fsspec in c:\\users\\panya\\appdata\\local\\programs\\python\\python313\\lib\\site-packages (from torch->easyocr) (2025.2.0)\n",
      "Requirement already satisfied: setuptools in c:\\users\\panya\\appdata\\local\\programs\\python\\python313\\lib\\site-packages (from torch->easyocr) (75.8.0)\n",
      "Requirement already satisfied: sympy==1.13.1 in c:\\users\\panya\\appdata\\local\\programs\\python\\python313\\lib\\site-packages (from torch->easyocr) (1.13.1)\n",
      "Requirement already satisfied: mpmath<1.4,>=1.1.0 in c:\\users\\panya\\appdata\\local\\programs\\python\\python313\\lib\\site-packages (from sympy==1.13.1->torch->easyocr) (1.3.0)\n",
      "Requirement already satisfied: imageio!=2.35.0,>=2.33 in c:\\users\\panya\\appdata\\local\\programs\\python\\python313\\lib\\site-packages (from scikit-image->easyocr) (2.37.0)\n",
      "Requirement already satisfied: tifffile>=2022.8.12 in c:\\users\\panya\\appdata\\local\\programs\\python\\python313\\lib\\site-packages (from scikit-image->easyocr) (2025.2.18)\n",
      "Requirement already satisfied: packaging>=21 in c:\\users\\panya\\appdata\\local\\programs\\python\\python313\\lib\\site-packages (from scikit-image->easyocr) (24.2)\n",
      "Requirement already satisfied: lazy-loader>=0.4 in c:\\users\\panya\\appdata\\local\\programs\\python\\python313\\lib\\site-packages (from scikit-image->easyocr) (0.4)\n",
      "Requirement already satisfied: MarkupSafe>=2.0 in c:\\users\\panya\\appdata\\local\\programs\\python\\python313\\lib\\site-packages (from jinja2->torch->easyocr) (3.0.2)\n"
     ]
    }
   ],
   "source": [
    "!pip install easyocr"
   ]
  },
  {
   "cell_type": "code",
   "execution_count": 2,
   "id": "23c91fab-1570-4197-9cfc-3a1e6a1e52cf",
   "metadata": {},
   "outputs": [
    {
     "name": "stdout",
     "output_type": "stream",
     "text": [
      "Requirement already satisfied: ultraLytics in c:\\users\\panya\\appdata\\local\\programs\\python\\python313\\lib\\site-packages (8.3.78)\n",
      "Requirement already satisfied: numpy<=2.1.1,>=1.23.0 in c:\\users\\panya\\appdata\\local\\programs\\python\\python313\\lib\\site-packages (from ultraLytics) (2.1.1)\n",
      "Requirement already satisfied: matplotlib>=3.3.0 in c:\\users\\panya\\appdata\\local\\programs\\python\\python313\\lib\\site-packages (from ultraLytics) (3.10.0)\n",
      "Requirement already satisfied: opencv-python>=4.6.0 in c:\\users\\panya\\appdata\\local\\programs\\python\\python313\\lib\\site-packages (from ultraLytics) (4.11.0.86)\n",
      "Requirement already satisfied: pillow>=7.1.2 in c:\\users\\panya\\appdata\\local\\programs\\python\\python313\\lib\\site-packages (from ultraLytics) (11.1.0)\n",
      "Requirement already satisfied: pyyaml>=5.3.1 in c:\\users\\panya\\appdata\\local\\programs\\python\\python313\\lib\\site-packages (from ultraLytics) (6.0.2)\n",
      "Requirement already satisfied: requests>=2.23.0 in c:\\users\\panya\\appdata\\local\\programs\\python\\python313\\lib\\site-packages (from ultraLytics) (2.32.3)\n",
      "Requirement already satisfied: scipy>=1.4.1 in c:\\users\\panya\\appdata\\local\\programs\\python\\python313\\lib\\site-packages (from ultraLytics) (1.15.2)\n",
      "Requirement already satisfied: torch>=1.8.0 in c:\\users\\panya\\appdata\\local\\programs\\python\\python313\\lib\\site-packages (from ultraLytics) (2.6.0)\n",
      "Requirement already satisfied: torchvision>=0.9.0 in c:\\users\\panya\\appdata\\local\\programs\\python\\python313\\lib\\site-packages (from ultraLytics) (0.21.0)\n",
      "Requirement already satisfied: tqdm>=4.64.0 in c:\\users\\panya\\appdata\\local\\programs\\python\\python313\\lib\\site-packages (from ultraLytics) (4.67.1)\n",
      "Requirement already satisfied: psutil in c:\\users\\panya\\appdata\\local\\programs\\python\\python313\\lib\\site-packages (from ultraLytics) (7.0.0)\n",
      "Requirement already satisfied: py-cpuinfo in c:\\users\\panya\\appdata\\local\\programs\\python\\python313\\lib\\site-packages (from ultraLytics) (9.0.0)\n",
      "Requirement already satisfied: pandas>=1.1.4 in c:\\users\\panya\\appdata\\local\\programs\\python\\python313\\lib\\site-packages (from ultraLytics) (2.2.3)\n",
      "Requirement already satisfied: seaborn>=0.11.0 in c:\\users\\panya\\appdata\\local\\programs\\python\\python313\\lib\\site-packages (from ultraLytics) (0.13.2)\n",
      "Requirement already satisfied: ultralytics-thop>=2.0.0 in c:\\users\\panya\\appdata\\local\\programs\\python\\python313\\lib\\site-packages (from ultraLytics) (2.0.14)\n",
      "Requirement already satisfied: contourpy>=1.0.1 in c:\\users\\panya\\appdata\\local\\programs\\python\\python313\\lib\\site-packages (from matplotlib>=3.3.0->ultraLytics) (1.3.1)\n",
      "Requirement already satisfied: cycler>=0.10 in c:\\users\\panya\\appdata\\local\\programs\\python\\python313\\lib\\site-packages (from matplotlib>=3.3.0->ultraLytics) (0.12.1)\n",
      "Requirement already satisfied: fonttools>=4.22.0 in c:\\users\\panya\\appdata\\local\\programs\\python\\python313\\lib\\site-packages (from matplotlib>=3.3.0->ultraLytics) (4.56.0)\n",
      "Requirement already satisfied: kiwisolver>=1.3.1 in c:\\users\\panya\\appdata\\local\\programs\\python\\python313\\lib\\site-packages (from matplotlib>=3.3.0->ultraLytics) (1.4.8)\n",
      "Requirement already satisfied: packaging>=20.0 in c:\\users\\panya\\appdata\\local\\programs\\python\\python313\\lib\\site-packages (from matplotlib>=3.3.0->ultraLytics) (24.2)\n",
      "Requirement already satisfied: pyparsing>=2.3.1 in c:\\users\\panya\\appdata\\local\\programs\\python\\python313\\lib\\site-packages (from matplotlib>=3.3.0->ultraLytics) (3.2.1)\n",
      "Requirement already satisfied: python-dateutil>=2.7 in c:\\users\\panya\\appdata\\local\\programs\\python\\python313\\lib\\site-packages (from matplotlib>=3.3.0->ultraLytics) (2.9.0.post0)\n",
      "Requirement already satisfied: pytz>=2020.1 in c:\\users\\panya\\appdata\\local\\programs\\python\\python313\\lib\\site-packages (from pandas>=1.1.4->ultraLytics) (2025.1)\n",
      "Requirement already satisfied: tzdata>=2022.7 in c:\\users\\panya\\appdata\\local\\programs\\python\\python313\\lib\\site-packages (from pandas>=1.1.4->ultraLytics) (2025.1)\n",
      "Requirement already satisfied: charset-normalizer<4,>=2 in c:\\users\\panya\\appdata\\local\\programs\\python\\python313\\lib\\site-packages (from requests>=2.23.0->ultraLytics) (3.4.1)\n",
      "Requirement already satisfied: idna<4,>=2.5 in c:\\users\\panya\\appdata\\local\\programs\\python\\python313\\lib\\site-packages (from requests>=2.23.0->ultraLytics) (3.10)\n",
      "Requirement already satisfied: urllib3<3,>=1.21.1 in c:\\users\\panya\\appdata\\local\\programs\\python\\python313\\lib\\site-packages (from requests>=2.23.0->ultraLytics) (2.3.0)\n",
      "Requirement already satisfied: certifi>=2017.4.17 in c:\\users\\panya\\appdata\\local\\programs\\python\\python313\\lib\\site-packages (from requests>=2.23.0->ultraLytics) (2025.1.31)\n",
      "Requirement already satisfied: filelock in c:\\users\\panya\\appdata\\local\\programs\\python\\python313\\lib\\site-packages (from torch>=1.8.0->ultraLytics) (3.17.0)\n",
      "Requirement already satisfied: typing-extensions>=4.10.0 in c:\\users\\panya\\appdata\\local\\programs\\python\\python313\\lib\\site-packages (from torch>=1.8.0->ultraLytics) (4.12.2)\n",
      "Requirement already satisfied: networkx in c:\\users\\panya\\appdata\\local\\programs\\python\\python313\\lib\\site-packages (from torch>=1.8.0->ultraLytics) (3.4.2)\n",
      "Requirement already satisfied: jinja2 in c:\\users\\panya\\appdata\\local\\programs\\python\\python313\\lib\\site-packages (from torch>=1.8.0->ultraLytics) (3.1.5)\n",
      "Requirement already satisfied: fsspec in c:\\users\\panya\\appdata\\local\\programs\\python\\python313\\lib\\site-packages (from torch>=1.8.0->ultraLytics) (2025.2.0)\n",
      "Requirement already satisfied: setuptools in c:\\users\\panya\\appdata\\local\\programs\\python\\python313\\lib\\site-packages (from torch>=1.8.0->ultraLytics) (75.8.0)\n",
      "Requirement already satisfied: sympy==1.13.1 in c:\\users\\panya\\appdata\\local\\programs\\python\\python313\\lib\\site-packages (from torch>=1.8.0->ultraLytics) (1.13.1)\n",
      "Requirement already satisfied: mpmath<1.4,>=1.1.0 in c:\\users\\panya\\appdata\\local\\programs\\python\\python313\\lib\\site-packages (from sympy==1.13.1->torch>=1.8.0->ultraLytics) (1.3.0)\n",
      "Requirement already satisfied: colorama in c:\\users\\panya\\appdata\\local\\programs\\python\\python313\\lib\\site-packages (from tqdm>=4.64.0->ultraLytics) (0.4.6)\n",
      "Requirement already satisfied: six>=1.5 in c:\\users\\panya\\appdata\\local\\programs\\python\\python313\\lib\\site-packages (from python-dateutil>=2.7->matplotlib>=3.3.0->ultraLytics) (1.17.0)\n",
      "Requirement already satisfied: MarkupSafe>=2.0 in c:\\users\\panya\\appdata\\local\\programs\\python\\python313\\lib\\site-packages (from jinja2->torch>=1.8.0->ultraLytics) (3.0.2)\n"
     ]
    }
   ],
   "source": [
    "! pip install ultraLytics"
   ]
  },
  {
   "cell_type": "code",
   "execution_count": 3,
   "id": "d89f720d-b8c8-43fc-b770-090c262a9ff1",
   "metadata": {},
   "outputs": [],
   "source": [
    "from ultralytics import YOLO\n",
    "import cv2\n",
    "import easyocr"
   ]
  },
  {
   "cell_type": "code",
   "execution_count": 4,
   "id": "49dfd661-cdd5-4cfa-9682-7f529b88f424",
   "metadata": {},
   "outputs": [],
   "source": [
    "model=YOLO(r\"C:\\Users\\panya\\OneDrive\\Desktop\\infosys\\detection_model\\runs\\detect\\train\\weights\\best.pt\")"
   ]
  },
  {
   "cell_type": "code",
   "execution_count": 5,
   "id": "19b4bae3-e0a9-4954-981a-072f2011ca6f",
   "metadata": {},
   "outputs": [
    {
     "name": "stderr",
     "output_type": "stream",
     "text": [
      "Neither CUDA nor MPS are available - defaulting to CPU. Note: This module is much faster with a GPU.\n"
     ]
    }
   ],
   "source": [
    "reader = easyocr.Reader(['en'])"
   ]
  },
  {
   "cell_type": "code",
   "execution_count": 5,
   "id": "13cafa72-1e43-4ae0-92f5-c259b6dc75a9",
   "metadata": {},
   "outputs": [
    {
     "name": "stdout",
     "output_type": "stream",
     "text": [
      "\n",
      "image 1/1 D:\\Infosys_internship\\WhatsApp Image 2025-02-27 at 19.36.11_0b2ead82.jpg: 640x512 1 name, 2 uids, 1 address, 250.4ms\n",
      "Speed: 10.4ms preprocess, 250.4ms inference, 10.9ms postprocess per image at shape (1, 3, 640, 512)\n"
     ]
    }
   ],
   "source": [
    "image_path = r\"D:\\Infosys_internship\\WhatsApp Image 2025-02-27 at 19.36.11_0b2ead82.jpg\" # replace with your image path\n",
    "results = model(image_path)"
   ]
  },
  {
   "cell_type": "code",
   "execution_count": 6,
   "id": "ffb380a0-8830-464c-8053-050227263d2c",
   "metadata": {},
   "outputs": [],
   "source": [
    "# Load the original image\n",
    "image = cv2.imread(image_path)\n",
    "\n",
    "# Dictionary to store extracted fields\n",
    "extracted_data = {}"
   ]
  },
  {
   "cell_type": "code",
   "execution_count": 7,
   "id": "0d9466a5-a525-4389-b5d1-7e0dc863678c",
   "metadata": {},
   "outputs": [],
   "source": [
    "# Iterate through detections\n",
    "for result in results[0].boxes.data.tolist():  # results[0].boxes.data contains bounding box details\n",
    "    x1, y1, x2, y2, confidence, class_id = map(int, result[:6])\n",
    "    field_class = model.names[class_id]  # Get class name (e.g., 'Name', 'UID', 'Address')\n",
    "\n",
    "    # Crop the detected region\n",
    "    cropped_roi = image[y1:y2, x1:x2]\n",
    "\n",
    "    # Convert cropped ROI to grayscale for OCR\n",
    "    gray_roi = cv2.cvtColor(cropped_roi, cv2.COLOR_BGR2GRAY)\n",
    "\n",
    "    # Use EasyOCR to extract text\n",
    "    text = reader.readtext(gray_roi, detail=0)  # detail=0 returns only the text\n",
    "\n",
    "    # Save the text to the extracted_data dictionary\n",
    "    extracted_data[field_class] = ' '.join(text)  # Combine detected text if multiple lines"
   ]
  },
  {
   "cell_type": "code",
   "execution_count": 8,
   "id": "6ff43767-7f17-4f88-a16e-0701a428cd6b",
   "metadata": {},
   "outputs": [
    {
     "name": "stdout",
     "output_type": "stream",
     "text": [
      "Extracted Data: {'name': 'Anju Raibhar', 'address': 'Address: CIO: Arvind Rajbhar, Naurasiya, Naursia, Azamgarh  Uttar Pradesh 276123', 'uid': '5826 2023 8724'}\n"
     ]
    }
   ],
   "source": [
    "# Print the extracted fields\n",
    "print(\"Extracted Data:\", extracted_data)"
   ]
  },
  {
   "cell_type": "code",
   "execution_count": 10,
   "id": "6c219607-993e-4407-ac5c-a9d4189ac2cf",
   "metadata": {},
   "outputs": [
    {
     "name": "stdout",
     "output_type": "stream",
     "text": [
      "Requirement already satisfied: opencv-python in c:\\users\\himan\\appdata\\local\\programs\\python\\python313\\lib\\site-packages (4.10.0.84)Note: you may need to restart the kernel to use updated packages.\n",
      "\n",
      "Requirement already satisfied: numpy>=1.21.2 in c:\\users\\himan\\appdata\\local\\programs\\python\\python313\\lib\\site-packages (from opencv-python) (2.1.1)\n"
     ]
    }
   ],
   "source": [
    "pip install opencv-python"
   ]
  }
 ],
 "metadata": {
  "kernelspec": {
   "display_name": "Python 3 (ipykernel)",
   "language": "python",
   "name": "python3"
  },
  "language_info": {
   "codemirror_mode": {
    "name": "ipython",
    "version": 3
   },
   "file_extension": ".py",
   "mimetype": "text/x-python",
   "name": "python",
   "nbconvert_exporter": "python",
   "pygments_lexer": "ipython3",
   "version": "3.13.2"
  }
 },
 "nbformat": 4,
 "nbformat_minor": 5
}
